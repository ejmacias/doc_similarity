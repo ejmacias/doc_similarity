{
 "cells": [
  {
   "cell_type": "markdown",
   "metadata": {},
   "source": [
    "TRABAJO FIN DE MASTER\n",
    "\n",
    "Máster en Big Data y Data Science\n",
    "\n",
    "Título: Descubriendo similitud entre documentos a partir de entidades nombradas\n",
    "\n",
    "Tutor: Pablo A. Haya Coll\n",
    "\n",
    "Estudiante: Emilio J. Macias Macias"
   ]
  },
  {
   "cell_type": "markdown",
   "metadata": {},
   "source": [
    "# Fase 3: Persistencia y Visualización"
   ]
  },
  {
   "cell_type": "code",
   "execution_count": null,
   "metadata": {},
   "outputs": [],
   "source": [
    "import persistence, visualization\n",
    "import os\n",
    "from pathlib import Path\n",
    "\n",
    "import spacy\n",
    "from elasticsearch import Elasticsearch\n",
    "from elasticsearch import helpers\n",
    "\n",
    "# Carga un modelo Spacy del disco local (debe haber sido entrenado y generado anteriormente).\n",
    "def load_model(tfm_dir, data_size, epoch, dropout, revision_rate):    \n",
    "    model = spacy.load(tfm_dir + '/models/model_' + data_size + '_e' + str(epoch) +\n",
    "                       '_d' + str(dropout) + '_r' + str(revision_rate))\n",
    "    return model"
   ]
  },
  {
   "cell_type": "markdown",
   "metadata": {},
   "source": [
    "## Persistencia de datos\n",
    "Los términos enriquecidos y las entidades nombradas de cada noticia se almacenarán en índices de Elastic Search (ES). Será preciso que la anotación siga el formato Brat (http://brat.nlplab.org/standoff.html) de manera que facilite la visualización posterior en caso de que sea necesario (http://brat.nlplab.org/examples.html).\n",
    "\n",
    "La organización que se escoja deberá permitir recuperar todas las noticias que compartan un determinado término o una determinada entidad nombrada. Deberá ser posible calcular estadísticas agregando las diferentes características lingüí­sticas como los lemas, el pos, o las relaciones de dependencias.\n"
   ]
  },
  {
   "cell_type": "code",
   "execution_count": null,
   "metadata": {},
   "outputs": [],
   "source": [
    "# Especificar parámetros para cargar el modelo actualizado:\n",
    "\n",
    "# Directorio raiz del proyecto.\n",
    "tfm_dir = str(Path(os.getcwd()).parent)\n",
    "\n",
    "model_size = 'medium' # small | medium | large\n",
    "epoch = 4 # 1 | 5 | 10\n",
    "dropout = 0.5 # 0.25 | 0.5 | 0.75\n",
    "revision_rate = 0.7 # 0.25 | 0.5 | 0.75\n",
    "\n",
    "# Cargar modelo actualizado.\n",
    "updated_model = load_model(tfm_dir, model_size, epoch, dropout, revision_rate)"
   ]
  },
  {
   "cell_type": "code",
   "execution_count": null,
   "metadata": {},
   "outputs": [],
   "source": [
    "# Directorio de las noticias a indexar.\n",
    "data_size = 'small' # small | medium | large\n",
    "data_dir = tfm_dir + '/data/' + data_size + '-data'\n",
    "\n",
    "# Índice noticias para ES\n",
    "newsIndex = \"news-index\"\n",
    "\n",
    "# Duplicar información para poder agregar entidades en ES\n",
    "# (Kibana no soporta objetos anidados)\n",
    "entityIndex = \"entity-index\"\n",
    "\n",
    "# Información para agregar características linguísticas\n",
    "# como lemas y parts-of-speech.\n",
    "lingIndex = \"ling-index\"\n",
    "\n",
    "# Establecer comunicación con ES\n",
    "es_client = Elasticsearch(hosts = [{'host':'localhost', 'port':9200}])"
   ]
  },
  {
   "cell_type": "code",
   "execution_count": null,
   "metadata": {},
   "outputs": [],
   "source": [
    "# Procesar entidades e información lingüística de las noticias para indexar en ElasticSearch.\n",
    "actions, entities_by_news = persistence.process_news(data_dir, updated_model, newsIndex, entityIndex, lingIndex)\n",
    "\n",
    "# Cargar todos los documentos en ES.\n",
    "helpers.bulk(es_client, actions)"
   ]
  },
  {
   "cell_type": "markdown",
   "metadata": {},
   "source": [
    "## Visualización de resultados\n",
    "Se habilitara un interfaz de usuario, mediante Kibana, que permita mostrar las entidades detectadas, recuperar los textos donde aparece una entidad o una palabra, así como información básica del corpus sobre palabras, lemas, y oraciones.\n",
    "\n",
    "Se implementara un algoritmo de distancia de documentos en función de las entidades que compartan, y se mostrara un grafo de todos los documentos (networkx, igraph o d3.js). Opcionalmente, se colorearan automáticamente los documentos mediante algoritmo de comunidades. Opcionalmente se podrá buscar un documento y visualizar su red de documentos similares."
   ]
  },
  {
   "cell_type": "code",
   "execution_count": null,
   "metadata": {},
   "outputs": [],
   "source": [
    "# Modelo de vectores (inglés). Usado para detectar similitud entre listas de entidades nombradas.\n",
    "nlp_vectors = spacy.load('en_vectors_web_lg')\n",
    "\n",
    "# Calcular matriz de distancias entre documentos.\n",
    "dist_matrix, edges = visualization.find_doc_distances(entities_by_news, nlp_vectors)\n",
    "\n",
    "# Filtrar por tamaño de comunidades, para representar solamente las que tengan un tamaño por encima\n",
    "# del umbral (% mínimo de noticias sobre el total).\n",
    "threshold = 0.05\n",
    "\n",
    "# Crear grafo de noticias y comunidades.\n",
    "visualization.plot_graph(dist_matrix, edges, threshold, entities_by_news, tfm_dir)"
   ]
  }
 ],
 "metadata": {
  "kernelspec": {
   "display_name": "Python 3",
   "language": "python",
   "name": "python3"
  },
  "language_info": {
   "codemirror_mode": {
    "name": "ipython",
    "version": 3
   },
   "file_extension": ".py",
   "mimetype": "text/x-python",
   "name": "python",
   "nbconvert_exporter": "python",
   "pygments_lexer": "ipython3",
   "version": "3.7.3"
  }
 },
 "nbformat": 4,
 "nbformat_minor": 2
}
