{
 "cells": [
  {
   "cell_type": "markdown",
   "metadata": {},
   "source": [
    "TRABAJO FIN DE MASTER\n",
    "\n",
    "Máster en Big Data y Data Science\n",
    "\n",
    "Título: Descubriendo similitud entre documentos a partir de entidades nombradas\n",
    "\n",
    "Tutor: Pablo A. Haya Coll\n",
    "\n",
    "Estudiante: Emilio J. Macias Macias"
   ]
  },
  {
   "cell_type": "markdown",
   "metadata": {},
   "source": [
    "# Fase 2: Mejora del reconocimiento. Training"
   ]
  },
  {
   "cell_type": "markdown",
   "metadata": {},
   "source": [
    "En función de los resultados obtenidos en la evaluación de la fase 1, se realizará una mejora del reconocimiento de entidades ya se mediante un entrenamiento o mediante recursos lingüísticos. Será preciso etiquetar nuevos texto para poder entrenar el modelo preentrenado."
   ]
  },
  {
   "cell_type": "markdown",
   "metadata": {},
   "source": [
    "## Librerías\n",
    "Para este prototipo se ha usado la versión de Python 3.7. A continuación se muestran las librerías que se han utilizado:\n",
    "\n",
    "* **BratReader**: Permite crear la estructura de objetos a partir de un repositorio de ficheros anotados en Brat. Disponible en GitHub con licencia GPL.\n",
    "* **Spacy**: Permite realizar procesamiento de lenguaje natural en Python, incluyendo reconocimiento de entidades nombradas.\n",
    "* **Scikit-Learn**: Librería de machine learning que se ha utilizado para construir la matriz de confusión de las entidades nombradas detectadas por Spacy. \n",
    "* **Matplotlib**: Se ha utilizado para representar gráficamente la matriz de confusión.\n",
    "* faltan mas .............."
   ]
  },
  {
   "cell_type": "code",
   "execution_count": null,
   "metadata": {},
   "outputs": [],
   "source": [
    "# Comprobar si estamos ejecutando en la nube.\n",
    "try:\n",
    "    import google.colab\n",
    "    in_colab = True\n",
    "except:\n",
    "    in_colab = False\n",
    "\n",
    "if (in_colab == True):\n",
    "    \n",
    "    print('Colab env')\n",
    "    !pip install -U spacy[cuda100]\n",
    "    !python -m spacy download es_core_news_sm\n",
    "    \n",
    "    # Usar GPU\n",
    "    import spacy\n",
    "    spacy.prefer_gpu()\n",
    "    spacy.require_gpu()\n",
    "    \n",
    "    # Obtener ruta del proyecto.\n",
    "    from google.colab import drive\n",
    "    drive.mount('/content/gdrive')\n",
    "    tfm_dir = '/content/gdrive/My Drive/tfm'    \n",
    "\n",
    "else:\n",
    "    \n",
    "    print('Local env')\n",
    "\n",
    "    # Obtener ruta del proyecto.\n",
    "    import os\n",
    "    from pathlib import Path\n",
    "    tfm_dir = str(Path(os.getcwd()).parent)    "
   ]
  },
  {
   "cell_type": "code",
   "execution_count": null,
   "metadata": {},
   "outputs": [],
   "source": [
    "import spacy\n",
    "import training\n",
    "import sys,os\n",
    "from pathlib import Path\n",
    "\n",
    "# Especificar parámetros para entrenar el modelo:\n",
    "\n",
    "nlp = spacy.load('es_core_news_sm') # modelo de partida\n",
    "ne_filename = 'entities.csv' # lista de entidades nombradas\n",
    "data_size = 'medium' # small | medium | large\n",
    "epoch = 5 # 1 | 3 | 5\n",
    "dropout = 0.5 # 0.25 | 05 | 0.75\n",
    "revision_rate = 0.5 # 0.25 | 0.5 | 0.75"
   ]
  },
  {
   "cell_type": "code",
   "execution_count": null,
   "metadata": {},
   "outputs": [],
   "source": [
    "# Entrenar modelo.\n",
    "trained_model = training.train_model(nlp, tfm_dir + '/data/' + data_size + '-data', ne_filename, epoch, dropout, revision_rate)\n",
    "\n",
    "# Listar modelos generados.\n",
    "os.listdir(tfm_dir + '/models')"
   ]
  },
  {
   "cell_type": "markdown",
   "metadata": {},
   "source": [
    "## Conclusiones\n",
    "..."
   ]
  },
  {
   "cell_type": "markdown",
   "metadata": {},
   "source": [
    "## Estructura de directorios\n",
    ".."
   ]
  },
  {
   "cell_type": "markdown",
   "metadata": {},
   "source": [
    "## Referencias\n",
    "\n",
    "* Lista de 269K ciudades del mundo: https://docs.google.com/spreadsheets/d/1x-t5GdfxbeuO5GtfnX4BYbTC6XBRI8HgxUfHIclR8bw/edit#gid=674937053\n",
    "* Lista de 42K organizaciones y 620K nombres de persona: https://ec.europa.eu/jrc/en/language-technologies/jrc-names"
   ]
  }
 ],
 "metadata": {
  "kernelspec": {
   "display_name": "Python 3",
   "language": "python",
   "name": "python3"
  },
  "language_info": {
   "codemirror_mode": {
    "name": "ipython",
    "version": 3
   },
   "file_extension": ".py",
   "mimetype": "text/x-python",
   "name": "python",
   "nbconvert_exporter": "python",
   "pygments_lexer": "ipython3",
   "version": "3.7.3"
  }
 },
 "nbformat": 4,
 "nbformat_minor": 2
}
